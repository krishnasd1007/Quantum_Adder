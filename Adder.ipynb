{
 "cells": [
  {
   "cell_type": "code",
   "execution_count": null,
   "metadata": {},
   "outputs": [],
   "source": [
    "q = QuantumRegister(8)\n",
    "c = ClassicalRegister(2)\n",
    "qc = QuantumCircuit(q,c)\n",
    "init_state = [0,1]\n",
    "qc.initialize(init_state,0)\n",
    "qc.initialize(init_state,2)\n",
    "qc.cx(q[0],q[6])\n",
    "qc.cx(q[1],q[6])\n",
    "qc.cx(q[2],q[6])\n",
    "qc.measure(q[6],c[0])\n",
    "qc.barrier()\n",
    "qc.ccx(q[0],q[1],q[5])\n",
    "qc.ccx(q[1],q[2],q[4])\n",
    "qc.ccx(q[0],q[2],q[3])\n",
    "qc.cx(q[5],q[7])\n",
    "qc.cx(q[4],q[7])\n",
    "qc.cx(q[3],q[7])\n",
    "qc.ccx(q[3],q[4],q[7])\n",
    "qc.ccx(q[4],q[5],q[7])\n",
    "qc.ccx(q[3],q[5],q[7])\n",
    "qc.measure(q[7],c[1])\n",
    "qc.draw(output='mpl')"
   ]
  }
 ],
 "metadata": {
  "kernelspec": {
   "display_name": "Python 3",
   "language": "python",
   "name": "python3"
  },
  "language_info": {
   "codemirror_mode": {
    "name": "ipython",
    "version": 3
   },
   "file_extension": ".py",
   "mimetype": "text/x-python",
   "name": "python",
   "nbconvert_exporter": "python",
   "pygments_lexer": "ipython3",
   "version": "3.8.5"
  }
 },
 "nbformat": 4,
 "nbformat_minor": 4
}
